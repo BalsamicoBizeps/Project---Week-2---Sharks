{
 "cells": [
  {
   "cell_type": "code",
   "execution_count": 1,
   "id": "def3b206-030f-419c-a495-4d7805487d50",
   "metadata": {},
   "outputs": [],
   "source": [
    "import pandas as pd"
   ]
  },
  {
   "cell_type": "code",
   "execution_count": null,
   "id": "fe2774a4-655e-4bca-b32d-2655c9c35052",
   "metadata": {},
   "outputs": [],
   "source": []
  },
  {
   "cell_type": "code",
   "execution_count": null,
   "id": "614c3b20-66fd-4e02-85ba-d0424bd3b0c7",
   "metadata": {},
   "outputs": [],
   "source": [
    "url = 'https://www.sharkattackfile.net/spreadsheets/GSAF5.xls'\n",
    "sharks_df = pd.read_csv(url)"
   ]
  }
 ],
 "metadata": {
  "kernelspec": {
   "display_name": "Python 3 (ipykernel)",
   "language": "python",
   "name": "python3"
  },
  "language_info": {
   "codemirror_mode": {
    "name": "ipython",
    "version": 3
   },
   "file_extension": ".py",
   "mimetype": "text/x-python",
   "name": "python",
   "nbconvert_exporter": "python",
   "pygments_lexer": "ipython3",
   "version": "3.12.4"
  }
 },
 "nbformat": 4,
 "nbformat_minor": 5
}
